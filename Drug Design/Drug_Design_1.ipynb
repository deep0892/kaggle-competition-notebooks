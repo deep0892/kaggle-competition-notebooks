{
  "nbformat": 4,
  "nbformat_minor": 0,
  "metadata": {
    "colab": {
      "name": "Drug_Design.ipynb",
      "provenance": [],
      "collapsed_sections": [],
      "machine_shape": "hm"
    },
    "kernelspec": {
      "display_name": "Python 3",
      "name": "python3"
    },
    "accelerator": "GPU"
  },
  "cells": [
    {
      "cell_type": "code",
      "metadata": {
        "id": "0VIfuZ7ttAXw"
      },
      "source": [
        ""
      ],
      "execution_count": 1,
      "outputs": []
    },
    {
      "cell_type": "code",
      "metadata": {
        "colab": {
          "base_uri": "https://localhost:8080/"
        },
        "id": "hLH1-XybSXhT",
        "outputId": "212826d8-a336-46fa-db8d-9cb9c5b4581f"
      },
      "source": [
        "# version 2018 is quite easy\n",
        "# download & extract\n",
        "url = 'https://anaconda.org/rdkit/rdkit/2018.09.1.0/download/linux-64/rdkit-2018.09.1.0-py36h71b666b_1.tar.bz2'\n",
        "!curl -L $url | tar xj lib\n",
        "# move to python packages directory\n",
        "!mv lib/python3.6/site-packages/rdkit /usr/local/lib/python3.6/dist-packages/\n",
        "x86 = '/usr/lib/x86_64-linux-gnu'\n",
        "!mv lib/*.so.* $x86/\n",
        "# rdkit need libboost_python3.so.1.65.1\n",
        "!ln -s $x86/libboost_python3-py36.so.1.65.1 $x86/libboost_python3.so.1.65.1"
      ],
      "execution_count": 2,
      "outputs": [
        {
          "output_type": "stream",
          "text": [
            "  % Total    % Received % Xferd  Average Speed   Time    Time     Time  Current\n",
            "                                 Dload  Upload   Total   Spent    Left  Speed\n",
            "100  3689    0  3689    0     0  16109      0 --:--:-- --:--:-- --:--:-- 16109\n",
            "100 20.2M  100 20.2M    0     0  5508k      0  0:00:03  0:00:03 --:--:-- 6781k\n"
          ],
          "name": "stdout"
        }
      ]
    },
    {
      "cell_type": "code",
      "metadata": {
        "colab": {
          "base_uri": "https://localhost:8080/"
        },
        "id": "dYSLa1JVSbm3",
        "outputId": "d48423de-85c8-4d0c-9b74-697c36a56b82"
      },
      "source": [
        "from google.colab import drive\n",
        "drive.mount(\"/content/drive\")"
      ],
      "execution_count": 3,
      "outputs": [
        {
          "output_type": "stream",
          "text": [
            "Mounted at /content/drive\n"
          ],
          "name": "stdout"
        }
      ]
    },
    {
      "cell_type": "code",
      "metadata": {
        "colab": {
          "base_uri": "https://localhost:8080/"
        },
        "id": "ElQMVgbITGuz",
        "outputId": "7d5c2987-6be5-4d67-8517-4fb81a62fb24"
      },
      "source": [
        "ls"
      ],
      "execution_count": 4,
      "outputs": [
        {
          "output_type": "stream",
          "text": [
            "\u001b[0m\u001b[01;34mdrive\u001b[0m/  \u001b[01;34mlib\u001b[0m/  \u001b[01;34msample_data\u001b[0m/\n"
          ],
          "name": "stdout"
        }
      ]
    },
    {
      "cell_type": "code",
      "metadata": {
        "colab": {
          "base_uri": "https://localhost:8080/"
        },
        "id": "JiLFyDr6TONV",
        "outputId": "640f57aa-a2d3-466e-d8da-8161ac12b187"
      },
      "source": [
        "%cd drive/MyDrive/"
      ],
      "execution_count": 5,
      "outputs": [
        {
          "output_type": "stream",
          "text": [
            "/content/drive/MyDrive\n"
          ],
          "name": "stdout"
        }
      ]
    },
    {
      "cell_type": "code",
      "metadata": {
        "colab": {
          "base_uri": "https://localhost:8080/"
        },
        "id": "tu8YQhNWeGSI",
        "outputId": "acd87802-ceaa-4fe6-cdbf-0d8cdf292d2e"
      },
      "source": [
        "cd drug_discovery/"
      ],
      "execution_count": 6,
      "outputs": [
        {
          "output_type": "stream",
          "text": [
            "/content/drive/.shortcut-targets-by-id/19b_O5F-YXehQUaR7OjSc5qFpWmOOs-7k/drug_discovery\n"
          ],
          "name": "stdout"
        }
      ]
    },
    {
      "cell_type": "code",
      "metadata": {
        "colab": {
          "base_uri": "https://localhost:8080/"
        },
        "id": "1eeUyn2TeHGs",
        "outputId": "df7ed920-0488-463d-fb6f-c578604abc0a"
      },
      "source": [
        "ls"
      ],
      "execution_count": 7,
      "outputs": [
        {
          "output_type": "stream",
          "text": [
            "AA.csv  drug_discovery1.ipynb\n"
          ],
          "name": "stdout"
        }
      ]
    },
    {
      "cell_type": "code",
      "metadata": {
        "colab": {
          "base_uri": "https://localhost:8080/",
          "height": 419
        },
        "id": "8vWO7UdLeq-w",
        "outputId": "35a28cd8-e4f4-4fa7-dac3-fcf2b2e2158b"
      },
      "source": [
        "import pandas as pd\n",
        "data = pd.read_csv('/content/drive/My Drive/drug_discovery/AA.csv')\n",
        "data"
      ],
      "execution_count": 8,
      "outputs": [
        {
          "output_type": "execute_result",
          "data": {
            "text/html": [
              "<div>\n",
              "<style scoped>\n",
              "    .dataframe tbody tr th:only-of-type {\n",
              "        vertical-align: middle;\n",
              "    }\n",
              "\n",
              "    .dataframe tbody tr th {\n",
              "        vertical-align: top;\n",
              "    }\n",
              "\n",
              "    .dataframe thead th {\n",
              "        text-align: right;\n",
              "    }\n",
              "</style>\n",
              "<table border=\"1\" class=\"dataframe\">\n",
              "  <thead>\n",
              "    <tr style=\"text-align: right;\">\n",
              "      <th></th>\n",
              "      <th>zinc_id</th>\n",
              "      <th>smiles</th>\n",
              "    </tr>\n",
              "  </thead>\n",
              "  <tbody>\n",
              "    <tr>\n",
              "      <th>0</th>\n",
              "      <td>ZINC000000008151</td>\n",
              "      <td>C[C@H]1[C@@H](O)[C@H](CO)O[C@@H](O)[C@@H]1N</td>\n",
              "    </tr>\n",
              "    <tr>\n",
              "      <th>1</th>\n",
              "      <td>ZINC000000008153</td>\n",
              "      <td>CC[C@@H]1[C@@H](N)[C@@H](O)O[C@@H](CO)[C@@H]1O</td>\n",
              "    </tr>\n",
              "    <tr>\n",
              "      <th>2</th>\n",
              "      <td>ZINC000000008155</td>\n",
              "      <td>CC1(C)[C@@H](N)[C@@H](O)O[C@@H](CO)[C@@H]1O</td>\n",
              "    </tr>\n",
              "    <tr>\n",
              "      <th>3</th>\n",
              "      <td>ZINC000000018276</td>\n",
              "      <td>CS[C@@H]1CN[C@@H](CO)[C@H](O)[C@H]1O</td>\n",
              "    </tr>\n",
              "    <tr>\n",
              "      <th>4</th>\n",
              "      <td>ZINC000000018279</td>\n",
              "      <td>CS[C@@H]1[C@@H](O)CN[C@@H](CO)[C@@H]1O</td>\n",
              "    </tr>\n",
              "    <tr>\n",
              "      <th>...</th>\n",
              "      <td>...</td>\n",
              "      <td>...</td>\n",
              "    </tr>\n",
              "    <tr>\n",
              "      <th>427851</th>\n",
              "      <td>ZINC000242463989</td>\n",
              "      <td>O[Cl+3](O)(O)O</td>\n",
              "    </tr>\n",
              "    <tr>\n",
              "      <th>427852</th>\n",
              "      <td>ZINC000247713634</td>\n",
              "      <td>O1[SiH2][SiH2]O[SiH2][SiH2]1</td>\n",
              "    </tr>\n",
              "    <tr>\n",
              "      <th>427853</th>\n",
              "      <td>ZINC000252581626</td>\n",
              "      <td>O[Si](O)(O)F</td>\n",
              "    </tr>\n",
              "    <tr>\n",
              "      <th>427854</th>\n",
              "      <td>ZINC000685945533</td>\n",
              "      <td>Cn1nnnc1S(=O)(=O)F</td>\n",
              "    </tr>\n",
              "    <tr>\n",
              "      <th>427855</th>\n",
              "      <td>ZINC000725262634</td>\n",
              "      <td>Cn1nnc(S(=O)(=O)F)n1</td>\n",
              "    </tr>\n",
              "  </tbody>\n",
              "</table>\n",
              "<p>427856 rows × 2 columns</p>\n",
              "</div>"
            ],
            "text/plain": [
              "                 zinc_id                                          smiles\n",
              "0       ZINC000000008151     C[C@H]1[C@@H](O)[C@H](CO)O[C@@H](O)[C@@H]1N\n",
              "1       ZINC000000008153  CC[C@@H]1[C@@H](N)[C@@H](O)O[C@@H](CO)[C@@H]1O\n",
              "2       ZINC000000008155     CC1(C)[C@@H](N)[C@@H](O)O[C@@H](CO)[C@@H]1O\n",
              "3       ZINC000000018276            CS[C@@H]1CN[C@@H](CO)[C@H](O)[C@H]1O\n",
              "4       ZINC000000018279          CS[C@@H]1[C@@H](O)CN[C@@H](CO)[C@@H]1O\n",
              "...                  ...                                             ...\n",
              "427851  ZINC000242463989                                  O[Cl+3](O)(O)O\n",
              "427852  ZINC000247713634                    O1[SiH2][SiH2]O[SiH2][SiH2]1\n",
              "427853  ZINC000252581626                                    O[Si](O)(O)F\n",
              "427854  ZINC000685945533                              Cn1nnnc1S(=O)(=O)F\n",
              "427855  ZINC000725262634                            Cn1nnc(S(=O)(=O)F)n1\n",
              "\n",
              "[427856 rows x 2 columns]"
            ]
          },
          "metadata": {
            "tags": []
          },
          "execution_count": 8
        }
      ]
    },
    {
      "cell_type": "code",
      "metadata": {
        "colab": {
          "base_uri": "https://localhost:8080/"
        },
        "id": "ox-GDOPdtBW8",
        "outputId": "0adaef49-91fd-4dbb-a61e-615a66e2e8f3"
      },
      "source": [
        "data['smiles'].apply(len).max()"
      ],
      "execution_count": 9,
      "outputs": [
        {
          "output_type": "execute_result",
          "data": {
            "text/plain": [
              "62"
            ]
          },
          "metadata": {
            "tags": []
          },
          "execution_count": 9
        }
      ]
    },
    {
      "cell_type": "code",
      "metadata": {
        "colab": {
          "base_uri": "https://localhost:8080/"
        },
        "id": "JuGqxIMmtIXX",
        "outputId": "f4db94cf-6e59-4eb2-cdd6-fb9d2543f9b3"
      },
      "source": [
        "data['smiles'].apply(len).min()"
      ],
      "execution_count": 10,
      "outputs": [
        {
          "output_type": "execute_result",
          "data": {
            "text/plain": [
              "4"
            ]
          },
          "metadata": {
            "tags": []
          },
          "execution_count": 10
        }
      ]
    },
    {
      "cell_type": "code",
      "metadata": {
        "id": "0OQ47lQFfDjU"
      },
      "source": [
        "from rdkit import Chem"
      ],
      "execution_count": 11,
      "outputs": []
    },
    {
      "cell_type": "code",
      "metadata": {
        "id": "6x-TbY7lfM-1"
      },
      "source": [
        "SMILES_CHARS = [' ',\n",
        "                  '#', '%', '(', ')', '+', '-', '.', '/',\n",
        "                  '0', '1', '2', '3', '4', '5', '6', '7', '8', '9',\n",
        "                  '=', '@',\n",
        "                  'A', 'B', 'C', 'F', 'H', 'I', 'K', 'L', 'M', 'N', 'O', 'P',\n",
        "                  'R', 'S', 'T', 'V', 'X', 'Z',\n",
        "                  '[', '\\\\', ']',\n",
        "                  'a', 'b', 'c', 'e', 'g', 'i', 'l', 'n', 'o', 'p', 'r', 's',\n",
        "                  't', 'u']\n",
        "smi2index = dict( (c,i) for i,c in enumerate( SMILES_CHARS ) )\n",
        "index2smi = dict( (i,c) for i,c in enumerate( SMILES_CHARS ) )\n",
        "def smiles_encoder( smiles, maxlen=62 ):\n",
        "    smiles = Chem.MolToSmiles(Chem.MolFromSmiles( smiles ))\n",
        "    X = np.zeros( ( maxlen, len( SMILES_CHARS ) ) )\n",
        "    for i, c in enumerate( smiles ):\n",
        "        X[i, smi2index[c]] = 1\n",
        "    return X\n",
        "def smiles_decoder( X ):\n",
        "    smi = ''\n",
        "    X = X.argmax( axis=-1 )\n",
        "    for i in X:\n",
        "        smi += index2smi[i]\n",
        "    return smi"
      ],
      "execution_count": 38,
      "outputs": []
    },
    {
      "cell_type": "code",
      "metadata": {
        "id": "ju2aBw-Gff9G"
      },
      "source": [
        "import numpy as np\n",
        "x = []\n",
        "for i in data['smiles'][:1000]:\n",
        "    #print(smiles_encoder(i))\n",
        "    x.append(smiles_encoder(i))\n",
        "arr = np.array(x)"
      ],
      "execution_count": 13,
      "outputs": []
    },
    {
      "cell_type": "code",
      "metadata": {
        "colab": {
          "base_uri": "https://localhost:8080/"
        },
        "id": "EyGDicCqKHCy",
        "outputId": "0ca1a6f9-5418-4327-85fd-d6a66519c34a"
      },
      "source": [
        "arr.shape"
      ],
      "execution_count": 14,
      "outputs": [
        {
          "output_type": "execute_result",
          "data": {
            "text/plain": [
              "(1000, 62, 56)"
            ]
          },
          "metadata": {
            "tags": []
          },
          "execution_count": 14
        }
      ]
    },
    {
      "cell_type": "code",
      "metadata": {
        "colab": {
          "base_uri": "https://localhost:8080/"
        },
        "id": "cxJ8aH-BQavn",
        "outputId": "e40ea4eb-9e80-4bdb-a96c-b02df45127af"
      },
      "source": [
        "arr[0].shape"
      ],
      "execution_count": 15,
      "outputs": [
        {
          "output_type": "execute_result",
          "data": {
            "text/plain": [
              "(62, 56)"
            ]
          },
          "metadata": {
            "tags": []
          },
          "execution_count": 15
        }
      ]
    },
    {
      "cell_type": "code",
      "metadata": {
        "id": "2Qx1k17Kfk_t"
      },
      "source": [
        "arr = arr.reshape(-1,62,56,1)"
      ],
      "execution_count": 16,
      "outputs": []
    },
    {
      "cell_type": "code",
      "metadata": {
        "colab": {
          "base_uri": "https://localhost:8080/"
        },
        "id": "eHHQTQj2-cx_",
        "outputId": "3d1cdf13-ec47-4f99-dbb4-d11719466e82"
      },
      "source": [
        "arr.shape"
      ],
      "execution_count": 17,
      "outputs": [
        {
          "output_type": "execute_result",
          "data": {
            "text/plain": [
              "(1000, 62, 56, 1)"
            ]
          },
          "metadata": {
            "tags": []
          },
          "execution_count": 17
        }
      ]
    },
    {
      "cell_type": "code",
      "metadata": {
        "id": "LFI3hiWViOiX"
      },
      "source": [
        "# #Hyperparameters\n",
        "\n",
        "# #Number of epochs for training\n",
        "# NUM_EPOCHS = 35\n",
        "\n",
        "# #Hidden channel dimension\n",
        "# hidden_channels = 32\n",
        "\n",
        "# #Latent space dimension\n",
        "# latent_dim = 196\n",
        "\n",
        "# #Convolutional layer kernel size\n",
        "# kernel_size = 3\n",
        "\n",
        "# #Stride is the number of pixels shifts over the input matrix  \n",
        "# stride = 1\n",
        "\n",
        "# #Padding size to add around the matrix.\n",
        "# padding = 1"
      ],
      "execution_count": 18,
      "outputs": []
    },
    {
      "cell_type": "code",
      "metadata": {
        "id": "Bz8Mje5L0UI7"
      },
      "source": [
        "import pandas as pd\n",
        "import numpy as np\n",
        "import matplotlib\n",
        "import matplotlib.pyplot as plt \n",
        "import matplotlib.patches as mpatches \n",
        "%matplotlib inline\n",
        "from scipy.stats import norm \n",
        "import keras\n",
        "from keras import layers\n",
        "from keras.models import Model \n",
        "from keras import metrics\n",
        "from keras import backend as K \n",
        "K.clear_session()\n",
        "np.random.seed(237)\n",
        "import scipy.stats as st\n",
        "import tensorflow.compat.v1.keras.backend as K \n",
        "import tensorflow as tf \n",
        "tf.compat.v1.disable_eager_execution()\n",
        "from tensorflow.keras.optimizers import Adam \n",
        "import warnings \n",
        "warnings.filterwarnings(\"ignore\")\n",
        "import matplotlib.pyplot as plt\n",
        "from mpl_toolkits.mplot3d import Axes3D \n",
        "import numpy as np\n",
        "from scipy.stats import multivariate_normal"
      ],
      "execution_count": 19,
      "outputs": []
    },
    {
      "cell_type": "code",
      "metadata": {
        "id": "l1srg2CXj5Xv"
      },
      "source": [
        "def sampling(args):\n",
        "  z_mu, z_log_sigma = args\n",
        "  epsilon = K.random_normal(shape=(K.shape(z_mu)[0], latent_dim),\n",
        "  mean=0., stddev=1.)\n",
        "  return z_mu + K.exp(z_log_sigma) * epsilon\n",
        "z = layers.Lambda(sampling)([z_mu, z_log_sigma])"
      ],
      "execution_count": 21,
      "outputs": []
    },
    {
      "cell_type": "code",
      "metadata": {
        "id": "r5FoBrgeF5ZU",
        "colab": {
          "base_uri": "https://localhost:8080/"
        },
        "outputId": "2336b418-876f-4e5d-8279-b1395558e90a"
      },
      "source": [
        "img_shape = (62, 56,1)\n",
        "batch_size = 16\n",
        "latent_dim = 2\n",
        "input_img = tf.keras.Input(shape=img_shape)\n",
        "\n",
        "x = layers.Conv1D(32, 7,\n",
        "                  strides = 2)(input_img)\n",
        "x = layers.BatchNormalization()(x)\n",
        "x = layers.Activation('relu')(x)\n",
        "\n",
        "x = layers.Conv1D(64, 7,\n",
        "                  \n",
        "                  strides = 2)(x)\n",
        "x = layers.BatchNormalization()(x)\n",
        "x = layers.Activation('relu')(x)\n",
        "\n",
        "x = layers.Conv1D(128, 7,\n",
        "                  \n",
        "                  strides = 2)(x)\n",
        "x = layers.BatchNormalization()(x)\n",
        "x = layers.Activation('relu')(x)\n",
        "\n",
        "x = layers.Dense(512)(x)\n",
        "x = layers.BatchNormalization()(x)\n",
        "x = layers.Activation('relu')(x)\n",
        "\n",
        "shape_before_flattening = K.int_shape(x)\n",
        "x = layers.Flatten()(x)\n",
        "z_mu = layers.Dense(latent_dim)(x)\n",
        "z_log_sigma = layers.Dense(latent_dim)(x)\n",
        "z = layers.Lambda(sampling)([z_mu, z_log_sigma])\n",
        "\n",
        "encoder = tf.keras.Model(input_img,[z_mu,z_log_sigma])\n",
        "encoder.summary()"
      ],
      "execution_count": 25,
      "outputs": [
        {
          "output_type": "stream",
          "text": [
            "Model: \"model_1\"\n",
            "__________________________________________________________________________________________________\n",
            "Layer (type)                    Output Shape         Param #     Connected to                     \n",
            "==================================================================================================\n",
            "input_4 (InputLayer)            [(None, 62, 56, 1)]  0                                            \n",
            "__________________________________________________________________________________________________\n",
            "conv1d_6 (Conv1D)               (None, 62, 25, 32)   256         input_4[0][0]                    \n",
            "__________________________________________________________________________________________________\n",
            "batch_normalization_8 (BatchNor (None, 62, 25, 32)   128         conv1d_6[0][0]                   \n",
            "__________________________________________________________________________________________________\n",
            "activation_8 (Activation)       (None, 62, 25, 32)   0           batch_normalization_8[0][0]      \n",
            "__________________________________________________________________________________________________\n",
            "conv1d_7 (Conv1D)               (None, 62, 10, 64)   14400       activation_8[0][0]               \n",
            "__________________________________________________________________________________________________\n",
            "batch_normalization_9 (BatchNor (None, 62, 10, 64)   256         conv1d_7[0][0]                   \n",
            "__________________________________________________________________________________________________\n",
            "activation_9 (Activation)       (None, 62, 10, 64)   0           batch_normalization_9[0][0]      \n",
            "__________________________________________________________________________________________________\n",
            "conv1d_8 (Conv1D)               (None, 62, 2, 128)   57472       activation_9[0][0]               \n",
            "__________________________________________________________________________________________________\n",
            "batch_normalization_10 (BatchNo (None, 62, 2, 128)   512         conv1d_8[0][0]                   \n",
            "__________________________________________________________________________________________________\n",
            "activation_10 (Activation)      (None, 62, 2, 128)   0           batch_normalization_10[0][0]     \n",
            "__________________________________________________________________________________________________\n",
            "dense_6 (Dense)                 (None, 62, 2, 512)   66048       activation_10[0][0]              \n",
            "__________________________________________________________________________________________________\n",
            "batch_normalization_11 (BatchNo (None, 62, 2, 512)   2048        dense_6[0][0]                    \n",
            "__________________________________________________________________________________________________\n",
            "activation_11 (Activation)      (None, 62, 2, 512)   0           batch_normalization_11[0][0]     \n",
            "__________________________________________________________________________________________________\n",
            "flatten_2 (Flatten)             (None, 63488)        0           activation_11[0][0]              \n",
            "__________________________________________________________________________________________________\n",
            "dense_7 (Dense)                 (None, 2)            126978      flatten_2[0][0]                  \n",
            "__________________________________________________________________________________________________\n",
            "dense_8 (Dense)                 (None, 2)            126978      flatten_2[0][0]                  \n",
            "==================================================================================================\n",
            "Total params: 395,076\n",
            "Trainable params: 393,604\n",
            "Non-trainable params: 1,472\n",
            "__________________________________________________________________________________________________\n"
          ],
          "name": "stdout"
        }
      ]
    },
    {
      "cell_type": "code",
      "metadata": {
        "id": "acix8R4QYhyX"
      },
      "source": [
        ""
      ],
      "execution_count": 25,
      "outputs": []
    },
    {
      "cell_type": "code",
      "metadata": {
        "id": "ibWwwiPZv6Dy"
      },
      "source": [
        "def sampling(args):\n",
        "  z_mu, z_log_sigma = args\n",
        "  epsilon = K.random_normal(shape=(K.shape(z_mu)[0], latent_dim),\n",
        "  mean=0., stddev=1.)\n",
        "  return z_mu + K.exp(z_log_sigma) * epsilon\n",
        "z = layers.Lambda(sampling)([z_mu, z_log_sigma])"
      ],
      "execution_count": 26,
      "outputs": []
    },
    {
      "cell_type": "code",
      "metadata": {
        "id": "T_3aMgzZVj5T"
      },
      "source": [
        ""
      ],
      "execution_count": 26,
      "outputs": []
    },
    {
      "cell_type": "code",
      "metadata": {
        "id": "IWd_wh6bTzr9"
      },
      "source": [
        "decoder_input = layers.Input(K.int_shape(z)[1:])\n",
        "x = layers.Dense(np.prod(shape_before_flattening[1:]),activation='relu')(decoder_input)\n",
        "#Decoder\n",
        "x = layers.Dense(512)(x)\n",
        "x = layers.BatchNormalization()(x)\n",
        "x = layers.Activation('relu')(x)\n",
        "\n",
        "x = layers.RepeatVector(62)(x)\n",
        "\n",
        "x = tf.compat.v1.keras.layers.CuDNNGRU(512, return_sequences=True)(x)\n",
        "x = layers.BatchNormalization()(x)\n",
        "\n",
        "x = tf.compat.v1.keras.layers.CuDNNGRU(512, return_sequences=True)(x)\n",
        "x = layers.BatchNormalization()(x)\n",
        "\n",
        "x = tf.compat.v1.keras.layers.CuDNNGRU(512, return_sequences=True)(x)\n",
        "\n",
        "x = layers.TimeDistributed(layers.Dense(56))(x)\n",
        "x = layers.Activation('softmax')(x)"
      ],
      "execution_count": 27,
      "outputs": []
    },
    {
      "cell_type": "code",
      "metadata": {
        "id": "iPzbwjioWZ0W"
      },
      "source": [
        "decoder = Model(decoder_input, x)\n",
        "z_decoded = decoder(z)"
      ],
      "execution_count": 28,
      "outputs": []
    },
    {
      "cell_type": "code",
      "metadata": {
        "colab": {
          "base_uri": "https://localhost:8080/"
        },
        "id": "igEQ9jVxeprE",
        "outputId": "a67c254a-f946-492b-95cf-6b9dfb90a2d6"
      },
      "source": [
        "decoder.summary()"
      ],
      "execution_count": 29,
      "outputs": [
        {
          "output_type": "stream",
          "text": [
            "Model: \"model_2\"\n",
            "_________________________________________________________________\n",
            "Layer (type)                 Output Shape              Param #   \n",
            "=================================================================\n",
            "input_5 (InputLayer)         [(None, 2)]               0         \n",
            "_________________________________________________________________\n",
            "dense_9 (Dense)              (None, 63488)             190464    \n",
            "_________________________________________________________________\n",
            "dense_10 (Dense)             (None, 512)               32506368  \n",
            "_________________________________________________________________\n",
            "batch_normalization_12 (Batc (None, 512)               2048      \n",
            "_________________________________________________________________\n",
            "activation_12 (Activation)   (None, 512)               0         \n",
            "_________________________________________________________________\n",
            "repeat_vector (RepeatVector) (None, 62, 512)           0         \n",
            "_________________________________________________________________\n",
            "cu_dnngru (CuDNNGRU)         (None, 62, 512)           1575936   \n",
            "_________________________________________________________________\n",
            "batch_normalization_13 (Batc (None, 62, 512)           2048      \n",
            "_________________________________________________________________\n",
            "cu_dnngru_1 (CuDNNGRU)       (None, 62, 512)           1575936   \n",
            "_________________________________________________________________\n",
            "batch_normalization_14 (Batc (None, 62, 512)           2048      \n",
            "_________________________________________________________________\n",
            "cu_dnngru_2 (CuDNNGRU)       (None, 62, 512)           1575936   \n",
            "_________________________________________________________________\n",
            "time_distributed (TimeDistri (None, 62, 56)            28728     \n",
            "_________________________________________________________________\n",
            "activation_13 (Activation)   (None, 62, 56)            0         \n",
            "=================================================================\n",
            "Total params: 37,459,512\n",
            "Trainable params: 37,456,440\n",
            "Non-trainable params: 3,072\n",
            "_________________________________________________________________\n"
          ],
          "name": "stdout"
        }
      ]
    },
    {
      "cell_type": "code",
      "metadata": {
        "id": "x2pDm2Xfv6X-"
      },
      "source": [
        "# decoder_input = layers.Input(K.int_shape(z)[1:])\n",
        "# x = layers.Dense(np.prod(shape_before_flattening[1:]),\n",
        "#                  activation='relu')(decoder_input)\n",
        "# x = layers.Reshape(shape_before_flattening[1:])(x)\n",
        "# x = layers.Conv2DTranspose(32, 3,\n",
        "#                            padding='same',\n",
        "#                            activation='relu',\n",
        "#                            strides=(2, 2))(x)\n",
        "# x = layers.Conv2D(1, 3,\n",
        "#                   padding='same',\n",
        "#                   activation='sigmoid')(x)\n",
        "# decoder = Model(decoder_input, x)\n",
        "# z_decoded = decoder(z)"
      ],
      "execution_count": 30,
      "outputs": []
    },
    {
      "cell_type": "code",
      "metadata": {
        "id": "W8-s3hMF8qEC"
      },
      "source": [
        "class CustomVariationalLayer(keras.layers.Layer):\n",
        "    def vae_loss(self, x, z_decoded):\n",
        "        x = K.flatten(x)\n",
        "        z_decoded = K.flatten(z_decoded)\n",
        "        xent_loss = keras.metrics.binary_crossentropy(x, z_decoded) #Recin loss\n",
        "        kl_loss = -5e-4 * K.mean(1 + z_log_sigma - K.square(z_mu) - K.exp(z_log_sigma), axis=-1) #KL loss\n",
        "        return K.mean(xent_loss + kl_loss)\n",
        "\n",
        "    def call(self, inputs):\n",
        "        x = inputs[0]\n",
        "        z_decoded = inputs[1]\n",
        "        loss = self.vae_loss(x, z_decoded)\n",
        "        self.add_loss(loss, inputs=inputs)\n",
        "        return x\n",
        "\n",
        "y = CustomVariationalLayer()([input_img, z_decoded])"
      ],
      "execution_count": 31,
      "outputs": []
    },
    {
      "cell_type": "code",
      "metadata": {
        "colab": {
          "base_uri": "https://localhost:8080/"
        },
        "id": "P3Wm2AvY9MGf",
        "outputId": "dce86767-a858-4223-98ac-14fd47c6d4ea"
      },
      "source": [
        "# VAE model statement\n",
        "vae = Model(input_img, y)\n",
        "vae.compile(optimizer='rmsprop', loss=None)\n",
        "vae.summary()"
      ],
      "execution_count": 32,
      "outputs": [
        {
          "output_type": "stream",
          "text": [
            "WARNING:tensorflow:Output custom_variational_layer missing from loss dictionary. We assume this was done on purpose. The fit and evaluate APIs will not be expecting any data to be passed to custom_variational_layer.\n"
          ],
          "name": "stdout"
        },
        {
          "output_type": "stream",
          "text": [
            "WARNING:tensorflow:Output custom_variational_layer missing from loss dictionary. We assume this was done on purpose. The fit and evaluate APIs will not be expecting any data to be passed to custom_variational_layer.\n"
          ],
          "name": "stderr"
        },
        {
          "output_type": "stream",
          "text": [
            "Model: \"model_3\"\n",
            "__________________________________________________________________________________________________\n",
            "Layer (type)                    Output Shape         Param #     Connected to                     \n",
            "==================================================================================================\n",
            "input_4 (InputLayer)            [(None, 62, 56, 1)]  0                                            \n",
            "__________________________________________________________________________________________________\n",
            "conv1d_6 (Conv1D)               (None, 62, 25, 32)   256         input_4[0][0]                    \n",
            "__________________________________________________________________________________________________\n",
            "batch_normalization_8 (BatchNor (None, 62, 25, 32)   128         conv1d_6[0][0]                   \n",
            "__________________________________________________________________________________________________\n",
            "activation_8 (Activation)       (None, 62, 25, 32)   0           batch_normalization_8[0][0]      \n",
            "__________________________________________________________________________________________________\n",
            "conv1d_7 (Conv1D)               (None, 62, 10, 64)   14400       activation_8[0][0]               \n",
            "__________________________________________________________________________________________________\n",
            "batch_normalization_9 (BatchNor (None, 62, 10, 64)   256         conv1d_7[0][0]                   \n",
            "__________________________________________________________________________________________________\n",
            "activation_9 (Activation)       (None, 62, 10, 64)   0           batch_normalization_9[0][0]      \n",
            "__________________________________________________________________________________________________\n",
            "conv1d_8 (Conv1D)               (None, 62, 2, 128)   57472       activation_9[0][0]               \n",
            "__________________________________________________________________________________________________\n",
            "batch_normalization_10 (BatchNo (None, 62, 2, 128)   512         conv1d_8[0][0]                   \n",
            "__________________________________________________________________________________________________\n",
            "activation_10 (Activation)      (None, 62, 2, 128)   0           batch_normalization_10[0][0]     \n",
            "__________________________________________________________________________________________________\n",
            "dense_6 (Dense)                 (None, 62, 2, 512)   66048       activation_10[0][0]              \n",
            "__________________________________________________________________________________________________\n",
            "batch_normalization_11 (BatchNo (None, 62, 2, 512)   2048        dense_6[0][0]                    \n",
            "__________________________________________________________________________________________________\n",
            "activation_11 (Activation)      (None, 62, 2, 512)   0           batch_normalization_11[0][0]     \n",
            "__________________________________________________________________________________________________\n",
            "flatten_2 (Flatten)             (None, 63488)        0           activation_11[0][0]              \n",
            "__________________________________________________________________________________________________\n",
            "dense_7 (Dense)                 (None, 2)            126978      flatten_2[0][0]                  \n",
            "__________________________________________________________________________________________________\n",
            "dense_8 (Dense)                 (None, 2)            126978      flatten_2[0][0]                  \n",
            "__________________________________________________________________________________________________\n",
            "lambda_4 (Lambda)               (None, 2)            0           dense_7[0][0]                    \n",
            "                                                                 dense_8[0][0]                    \n",
            "__________________________________________________________________________________________________\n",
            "model_2 (Functional)            (None, 62, 56)       37459512    lambda_4[0][0]                   \n",
            "__________________________________________________________________________________________________\n",
            "custom_variational_layer (Custo (None, 62, 56, 1)    0           input_4[0][0]                    \n",
            "                                                                 model_2[0][0]                    \n",
            "==================================================================================================\n",
            "Total params: 37,854,588\n",
            "Trainable params: 37,850,044\n",
            "Non-trainable params: 4,544\n",
            "__________________________________________________________________________________________________\n"
          ],
          "name": "stdout"
        }
      ]
    },
    {
      "cell_type": "code",
      "metadata": {
        "colab": {
          "base_uri": "https://localhost:8080/"
        },
        "id": "5veujgFA9UtU",
        "outputId": "5d49a43c-6324-4aa6-cf78-e99e625b5739"
      },
      "source": [
        "callback = tf.keras.callbacks.EarlyStopping(monitor='loss', patience=10)\n",
        "vae.fit(x=arr, y=None,\n",
        "        shuffle=True,\n",
        "        epochs=120,\n",
        "        batch_size=batch_size,callbacks=[callback]\n",
        "        )"
      ],
      "execution_count": 33,
      "outputs": [
        {
          "output_type": "stream",
          "text": [
            "Train on 1000 samples\n",
            "Epoch 1/120\n",
            "1000/1000 [==============================] - 24s 24ms/sample - loss: 12976.5682\n",
            "Epoch 2/120\n",
            "1000/1000 [==============================] - 2s 2ms/sample - loss: 4.8044\n",
            "Epoch 3/120\n",
            "1000/1000 [==============================] - 2s 2ms/sample - loss: 1.1516\n",
            "Epoch 4/120\n",
            "1000/1000 [==============================] - 2s 2ms/sample - loss: 0.1252\n",
            "Epoch 5/120\n",
            "1000/1000 [==============================] - 2s 2ms/sample - loss: 0.8886\n",
            "Epoch 6/120\n",
            "1000/1000 [==============================] - 2s 2ms/sample - loss: 8.9856\n",
            "Epoch 7/120\n",
            "1000/1000 [==============================] - 2s 2ms/sample - loss: 0.3029\n",
            "Epoch 8/120\n",
            "1000/1000 [==============================] - 2s 2ms/sample - loss: 76769.2847\n",
            "Epoch 9/120\n",
            "1000/1000 [==============================] - 2s 2ms/sample - loss: 15.2412\n",
            "Epoch 10/120\n",
            "1000/1000 [==============================] - 2s 2ms/sample - loss: 17.1902\n",
            "Epoch 11/120\n",
            "1000/1000 [==============================] - 2s 2ms/sample - loss: 1423251.7075\n",
            "Epoch 12/120\n",
            "1000/1000 [==============================] - 2s 2ms/sample - loss: 117202778849.4204\n",
            "Epoch 13/120\n",
            "1000/1000 [==============================] - 2s 2ms/sample - loss: 94419764.6338\n",
            "Epoch 14/120\n",
            "1000/1000 [==============================] - 2s 2ms/sample - loss: 0.1862\n"
          ],
          "name": "stdout"
        },
        {
          "output_type": "execute_result",
          "data": {
            "text/plain": [
              "<tensorflow.python.keras.callbacks.History at 0x7f9de104d978>"
            ]
          },
          "metadata": {
            "tags": []
          },
          "execution_count": 33
        }
      ]
    },
    {
      "cell_type": "code",
      "metadata": {
        "id": "IhJCbOPwka-b"
      },
      "source": [
        ""
      ],
      "execution_count": null,
      "outputs": []
    },
    {
      "cell_type": "code",
      "metadata": {
        "id": "Pzs06iOX9qI0"
      },
      "source": [
        "\n",
        "sample_vector = np.array([[0,5]])\n",
        "result = decoder.predict(sample_vector)"
      ],
      "execution_count": 34,
      "outputs": []
    },
    {
      "cell_type": "code",
      "metadata": {
        "colab": {
          "base_uri": "https://localhost:8080/"
        },
        "id": "ywyEdpBgDUhJ",
        "outputId": "f9663cda-ea14-4ffe-ec80-31020ecc087d"
      },
      "source": [
        "result.shape"
      ],
      "execution_count": 35,
      "outputs": [
        {
          "output_type": "execute_result",
          "data": {
            "text/plain": [
              "(1, 62, 56)"
            ]
          },
          "metadata": {
            "tags": []
          },
          "execution_count": 35
        }
      ]
    },
    {
      "cell_type": "code",
      "metadata": {
        "id": "yIOIn2hrDf_l"
      },
      "source": [
        "result = result[0].reshape(62,56)"
      ],
      "execution_count": null,
      "outputs": []
    },
    {
      "cell_type": "code",
      "metadata": {
        "colab": {
          "base_uri": "https://localhost:8080/"
        },
        "id": "Gc-fneGLDwIH",
        "outputId": "3453b9f1-09e4-4707-cfe0-dd39f2926132"
      },
      "source": [
        "result.shape"
      ],
      "execution_count": 36,
      "outputs": [
        {
          "output_type": "execute_result",
          "data": {
            "text/plain": [
              "(1, 62, 56)"
            ]
          },
          "metadata": {
            "tags": []
          },
          "execution_count": 36
        }
      ]
    },
    {
      "cell_type": "code",
      "metadata": {
        "colab": {
          "base_uri": "https://localhost:8080/",
          "height": 35
        },
        "id": "TfNi41ZYD5Pw",
        "outputId": "a863250a-53aa-4bbe-e281-46cec7a8cb8d"
      },
      "source": [
        "smiles_decoder(result[0])"
      ],
      "execution_count": 40,
      "outputs": [
        {
          "output_type": "execute_result",
          "data": {
            "application/vnd.google.colaboratory.intrinsic+json": {
              "type": "string"
            },
            "text/plain": [
              "'CCC@O)CCCCCCCOOOOOO@@@@C]=CCCCCC@@@@@@@@@@11111111111111111111'"
            ]
          },
          "metadata": {
            "tags": []
          },
          "execution_count": 40
        }
      ]
    },
    {
      "cell_type": "code",
      "metadata": {
        "id": "knOSElh3D8Dd"
      },
      "source": [
        "# import rdkit\n",
        "# rdkit.Chem.MolDrawing(smiles_decoder(result))"
      ],
      "execution_count": null,
      "outputs": []
    },
    {
      "cell_type": "code",
      "metadata": {
        "colab": {
          "base_uri": "https://localhost:8080/",
          "height": 317
        },
        "id": "tZP4SQjEEYqp",
        "outputId": "8edf759e-4123-4f15-8778-e275a2d4e5c5"
      },
      "source": [
        "from rdkit.Chem import Draw\n",
        "m = Chem.MolFromSmiles(smiles_decoder(result))\n",
        "fig = Draw.MolToMPL(m, size=(200,200))"
      ],
      "execution_count": null,
      "outputs": [
        {
          "output_type": "error",
          "ename": "ValueError",
          "evalue": "ignored",
          "traceback": [
            "\u001b[0;31m---------------------------------------------------------------------------\u001b[0m",
            "\u001b[0;31mValueError\u001b[0m                                Traceback (most recent call last)",
            "\u001b[0;32m<ipython-input-197-30cbf842fa20>\u001b[0m in \u001b[0;36m<module>\u001b[0;34m()\u001b[0m\n\u001b[1;32m      1\u001b[0m \u001b[0;32mfrom\u001b[0m \u001b[0mrdkit\u001b[0m\u001b[0;34m.\u001b[0m\u001b[0mChem\u001b[0m \u001b[0;32mimport\u001b[0m \u001b[0mDraw\u001b[0m\u001b[0;34m\u001b[0m\u001b[0;34m\u001b[0m\u001b[0m\n\u001b[1;32m      2\u001b[0m \u001b[0mm\u001b[0m \u001b[0;34m=\u001b[0m \u001b[0mChem\u001b[0m\u001b[0;34m.\u001b[0m\u001b[0mMolFromSmiles\u001b[0m\u001b[0;34m(\u001b[0m\u001b[0msmiles_decoder\u001b[0m\u001b[0;34m(\u001b[0m\u001b[0mresult\u001b[0m\u001b[0;34m)\u001b[0m\u001b[0;34m)\u001b[0m\u001b[0;34m\u001b[0m\u001b[0;34m\u001b[0m\u001b[0m\n\u001b[0;32m----> 3\u001b[0;31m \u001b[0mfig\u001b[0m \u001b[0;34m=\u001b[0m \u001b[0mDraw\u001b[0m\u001b[0;34m.\u001b[0m\u001b[0mMolToMPL\u001b[0m\u001b[0;34m(\u001b[0m\u001b[0mm\u001b[0m\u001b[0;34m,\u001b[0m \u001b[0msize\u001b[0m\u001b[0;34m=\u001b[0m\u001b[0;34m(\u001b[0m\u001b[0;36m200\u001b[0m\u001b[0;34m,\u001b[0m\u001b[0;36m200\u001b[0m\u001b[0;34m)\u001b[0m\u001b[0;34m)\u001b[0m\u001b[0;34m\u001b[0m\u001b[0;34m\u001b[0m\u001b[0m\n\u001b[0m",
            "\u001b[0;32m/usr/local/lib/python3.6/dist-packages/rdkit/Chem/Draw/__init__.py\u001b[0m in \u001b[0;36mMolToMPL\u001b[0;34m(mol, size, kekulize, wedgeBonds, imageType, fitImage, options, **kwargs)\u001b[0m\n\u001b[1;32m    234\u001b[0m   \"\"\"\n\u001b[1;32m    235\u001b[0m   \u001b[0;32mif\u001b[0m \u001b[0;32mnot\u001b[0m \u001b[0mmol\u001b[0m\u001b[0;34m:\u001b[0m\u001b[0;34m\u001b[0m\u001b[0;34m\u001b[0m\u001b[0m\n\u001b[0;32m--> 236\u001b[0;31m     \u001b[0;32mraise\u001b[0m \u001b[0mValueError\u001b[0m\u001b[0;34m(\u001b[0m\u001b[0;34m'Null molecule provided'\u001b[0m\u001b[0;34m)\u001b[0m\u001b[0;34m\u001b[0m\u001b[0;34m\u001b[0m\u001b[0m\n\u001b[0m\u001b[1;32m    237\u001b[0m   \u001b[0;32mfrom\u001b[0m \u001b[0mrdkit\u001b[0m\u001b[0;34m.\u001b[0m\u001b[0mChem\u001b[0m\u001b[0;34m.\u001b[0m\u001b[0mDraw\u001b[0m\u001b[0;34m.\u001b[0m\u001b[0mmplCanvas\u001b[0m \u001b[0;32mimport\u001b[0m \u001b[0mCanvas\u001b[0m\u001b[0;34m\u001b[0m\u001b[0;34m\u001b[0m\u001b[0m\n\u001b[1;32m    238\u001b[0m   \u001b[0mcanvas\u001b[0m \u001b[0;34m=\u001b[0m \u001b[0mCanvas\u001b[0m\u001b[0;34m(\u001b[0m\u001b[0msize\u001b[0m\u001b[0;34m)\u001b[0m\u001b[0;34m\u001b[0m\u001b[0;34m\u001b[0m\u001b[0m\n",
            "\u001b[0;31mValueError\u001b[0m: Null molecule provided"
          ]
        }
      ]
    },
    {
      "cell_type": "code",
      "metadata": {
        "id": "53zgDxuXE8mL"
      },
      "source": [
        ""
      ],
      "execution_count": null,
      "outputs": []
    }
  ]
}